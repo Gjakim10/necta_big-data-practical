{
 "cells": [
  {
   "cell_type": "code",
   "execution_count": 1,
   "id": "28405473",
   "metadata": {},
   "outputs": [
    {
     "name": "stdout",
     "output_type": "stream",
     "text": [
      "\n",
      "✅ Saved 6563 schools to school_links2.csv (excluding A–Z index)\n"
     ]
    }
   ],
   "source": [
    "import requests\n",
    "from bs4 import BeautifulSoup\n",
    "import pandas as pd\n",
    "\n",
    "# Updated NECTA school links page\n",
    "index_url = \"https://matokeo.necta.go.tz/results/2024/csee/CSEE2024/CSEE2024/index.htm\"\n",
    "base_url = \"https://matokeo.necta.go.tz/results/2024/csee/CSEE2024/CSEE2024/\"\n",
    "\n",
    "# Fetch and parse the HTML\n",
    "res = requests.get(index_url)\n",
    "soup = BeautifulSoup(res.text, 'html.parser')\n",
    "\n",
    "# Extract links that are in the school list only (ignore A-Z table at the top)\n",
    "# We assume valid school rows contain <a> tags with .htm links\n",
    "school_entries = []\n",
    "for link in soup.find_all('a'):\n",
    "    href = link.get('href', '')\n",
    "    if href.endswith('.htm') and not href.startswith('CSEE2024'):  # Exclude A-Z index pages\n",
    "        full_url = base_url + href\n",
    "        school_name = link.text.strip()\n",
    "        school_code = href.replace('.htm', '')\n",
    "\n",
    "        excel_hyperlink = f'=HYPERLINK(\"{full_url}\", \"View Results\")'\n",
    "\n",
    "        school_entries.append({\n",
    "            \"School Name\": school_name,\n",
    "            \"School Code\": school_code,\n",
    "            \"Link (Excel)\": excel_hyperlink,\n",
    "            \"Direct URL\": full_url\n",
    "        })\n",
    "\n",
    "# Save to CSV\n",
    "df = pd.DataFrame(school_entries)\n",
    "df.to_csv(\"school_links2.csv\", index=False)\n",
    "\n",
    "print(f\"\\n✅ Saved {len(df)} schools to school_links2.csv (excluding A–Z index)\")\n"
   ]
  },
  {
   "cell_type": "code",
   "execution_count": null,
   "id": "64726856",
   "metadata": {},
   "outputs": [],
   "source": []
  }
 ],
 "metadata": {
  "kernelspec": {
   "display_name": "Python 3 (ipykernel)",
   "language": "python",
   "name": "python3"
  },
  "language_info": {
   "codemirror_mode": {
    "name": "ipython",
    "version": 3
   },
   "file_extension": ".py",
   "mimetype": "text/x-python",
   "name": "python",
   "nbconvert_exporter": "python",
   "pygments_lexer": "ipython3",
   "version": "3.11.5"
  }
 },
 "nbformat": 4,
 "nbformat_minor": 5
}
